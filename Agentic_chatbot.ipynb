{
  "nbformat": 4,
  "nbformat_minor": 0,
  "metadata": {
    "colab": {
      "provenance": [],
      "authorship_tag": "ABX9TyOL8w+JOA6JsGPXp8SwoVSR",
      "include_colab_link": true
    },
    "kernelspec": {
      "name": "python3",
      "display_name": "Python 3"
    },
    "language_info": {
      "name": "python"
    }
  },
  "cells": [
    {
      "cell_type": "markdown",
      "metadata": {
        "id": "view-in-github",
        "colab_type": "text"
      },
      "source": [
        "<a href=\"https://colab.research.google.com/github/Syed-Raza-Ali/Agentic_chatbot/blob/main/Agentic_chatbot.ipynb\" target=\"_parent\"><img src=\"https://colab.research.google.com/assets/colab-badge.svg\" alt=\"Open In Colab\"/></a>"
      ]
    },
    {
      "cell_type": "markdown",
      "source": [
        "##**Agentic AI Chatbot Project**\n",
        "\n",
        "Autonomous systems are designed to carry out tasks, make decisions, and engage with users with little to no human input. Using advanced AI, they grasp context, learn from their interactions, and deliver responses tailored to each user"
      ],
      "metadata": {
        "id": "Tz5SijUbBWWk"
      }
    },
    {
      "cell_type": "markdown",
      "source": [
        "**Install the required packages**"
      ],
      "metadata": {
        "id": "Y51_iNpVCL4j"
      }
    },
    {
      "cell_type": "code",
      "execution_count": null,
      "metadata": {
        "collapsed": true,
        "id": "Rth_VtzdcT53"
      },
      "outputs": [],
      "source": [
        "# install the required packages\n",
        "%%capture --no-stderr\n",
        "%pip install -U langchain_core langchain_google_genai tavily-python langchain_community"
      ]
    },
    {
      "cell_type": "code",
      "source": [
        "%%capture --no-stderr\n",
        "%pip install -U langgraph"
      ],
      "metadata": {
        "id": "3qoHuDi6WtuV"
      },
      "execution_count": null,
      "outputs": []
    },
    {
      "cell_type": "code",
      "source": [
        "# Upgrade LangChain and langchain_core (if needed)\n",
        "%%capture --no-stderr\n",
        "%pip install --upgrade langchain langchain_core langchain==0.0.256 langchain_core==0.0.154\n",
        "%pip install --force-reinstall langchain"
      ],
      "metadata": {
        "collapsed": true,
        "id": "Ki3FfAYidZJB"
      },
      "execution_count": null,
      "outputs": []
    },
    {
      "cell_type": "markdown",
      "source": [
        "**CREATE VARIABLES FOR API KEYS**"
      ],
      "metadata": {
        "id": "w4ZZ3KehChQv"
      }
    },
    {
      "cell_type": "code",
      "source": [
        "# API KEYS VARIABLES\n",
        "\n",
        "from google.colab import userdata\n",
        "GEMINI_API_KEY = userdata.get('GEMINI_API_KEY')"
      ],
      "metadata": {
        "id": "uTmGgyYHf1yO"
      },
      "execution_count": null,
      "outputs": []
    },
    {
      "cell_type": "markdown",
      "source": [
        "**Use** `ChatGoogleGenerativeAI` **For LLM**\n",
        "\n",
        "- NOTE: This library using because langGraph dont have any chat model LLM thats why we use google gemini `gemini-1.5-flash` chat model.\n"
      ],
      "metadata": {
        "id": "fGE2yIAwDJZM"
      }
    },
    {
      "cell_type": "code",
      "source": [
        "# LLM\n",
        "from langchain_google_genai import  ChatGoogleGenerativeAI\n",
        "\n",
        "llm = ChatGoogleGenerativeAI(\n",
        "    model = \"gemini-1.5-flash\",\n",
        "    api_key = GEMINI_API_KEY,\n",
        "    temperature = 0\n",
        ")"
      ],
      "metadata": {
        "id": "5Js6_sPKcXqy"
      },
      "execution_count": null,
      "outputs": []
    },
    {
      "cell_type": "code",
      "source": [
        "# LLM TESTING - (SUCCESFULL)\n",
        "\n",
        "result = llm.invoke(\"hi\")\n",
        "result"
      ],
      "metadata": {
        "id": "dlgwBEQZfVCV",
        "collapsed": true,
        "colab": {
          "base_uri": "https://localhost:8080/"
        },
        "outputId": "6083623c-72f8-4924-f3ad-2c8f439666ef"
      },
      "execution_count": null,
      "outputs": [
        {
          "output_type": "execute_result",
          "data": {
            "text/plain": [
              "AIMessage(content='Hi there! How can I help you today?\\n', additional_kwargs={}, response_metadata={'prompt_feedback': {'block_reason': 0, 'safety_ratings': []}, 'finish_reason': 'STOP', 'safety_ratings': []}, id='run-54ec01f4-3b64-4d2a-ac9b-8a542e507f3e-0', usage_metadata={'input_tokens': 2, 'output_tokens': 11, 'total_tokens': 13, 'input_token_details': {'cache_read': 0}})"
            ]
          },
          "metadata": {},
          "execution_count": 6
        }
      ]
    },
    {
      "cell_type": "markdown",
      "source": [
        "###**Creating a State Graph for an Agentic Chatbot with LangGraph**"
      ],
      "metadata": {
        "id": "XGx3PDFNHR67"
      }
    },
    {
      "cell_type": "code",
      "source": [
        "from typing import Annotated\n",
        "\n",
        "from typing_extensions import TypedDict\n",
        "\n",
        "from langgraph.graph import StateGraph, START, END\n",
        "from langgraph.graph.message import add_messages\n",
        "\n",
        "#add_messages : append new messages to the existing list of messages in the state in the graph.\n",
        "# Define the State class with a list of messages\n",
        "class State(TypedDict):\n",
        "    messages: Annotated[list, add_messages]\n",
        "\n",
        "\n",
        "# Create a StateGraph instance with the State type\n",
        "graph_builder = StateGraph(State)\n",
        "\n",
        "# create node of chatbot\n",
        "# Define the chatbot function that uses the state and returns a response from the LLM\n",
        "def chatbot(state: State):\n",
        "    return {\"messages\": [llm.invoke(state[\"messages\"])]}\n",
        "\n",
        "# NOTE\n",
        "# The first argument is the unique node name\n",
        "# The second argument is the function or object that will be called whenever\n",
        "# the node is used.\n",
        "\n",
        "# Check if the node already exists before adding it\n",
        "if \"chatbot\" not in graph_builder.nodes:\n",
        "    graph_builder.add_node(\"chatbot\", chatbot)\n",
        "else:\n",
        "    print(\"Node 'chatbot' already present.\")\n",
        "\n",
        "# # Adding nodes\n",
        "graph_builder.add_edge(START, \"chatbot\")\n",
        "graph_builder.add_edge(\"chatbot\", END)\n",
        "\n",
        "# Compile the graph\n",
        "graph = graph_builder.compile()"
      ],
      "metadata": {
        "id": "vI24j675Wfl_"
      },
      "execution_count": null,
      "outputs": []
    },
    {
      "cell_type": "markdown",
      "source": [
        "\n",
        "\n",
        "**Explanation**:\n",
        "\n",
        "**1. Imports**:\n",
        "```\n",
        "from typing import Annotated\n",
        "from typing_extensions import TypedDict\n",
        "from langgraph.graph import StateGraph, START, END\n",
        "from langgraph.graph.message import add_messages\n",
        "\n",
        "```\n",
        "\n",
        "- `Annotated`: Allows the annotation of a type with additional information, used here to link the `messages` field to the `add_messages` function.\n",
        "- `TypedDict`: Enables defining dictionary-like objects with specific key-value types.\n",
        "- `StateGraph`: A core class from LangGraph for constructing and managing state-based directed graphs.\n",
        "- `START`, `END`: Special nodes in the graph representing the beginning and end of a state sequence.\n",
        "- `add_messages`: A utility function to append new messages to an existing list of messages in the state.\n",
        "\n",
        "\n",
        "```\n",
        "class State(TypedDict):\n",
        "    messages: Annotated[list, add_messages]\n",
        "```\n",
        "\n",
        "- `State`: Represents the `state` as a dictionary with messages, managed by add_messages.\n",
        "\n",
        "\n",
        "```\n",
        "graph_builder = StateGraph(State)\n",
        "```\n",
        "- Initializes a new graph for managing states.\n",
        "\n",
        "\n",
        "```\n",
        "def chatbot(state: State):\n",
        "    return {\"messages\": [llm.invoke(state[\"messages\"])]}\n",
        "\n",
        "```\n",
        "- `chatbot` Function: Processes the chatbot state and returns a response using an LLM.\n",
        "\n",
        "\n",
        "```\n",
        "if \"chatbot\" not in graph_builder.nodes:\n",
        "    graph_builder.add_node(\"chatbot\", chatbot)\n",
        "else:\n",
        "    print(\"Node 'chatbot' already present.\")\n",
        "\n",
        "```\n",
        "- Ensures the `chatbot` node is added only once.\n",
        "\n",
        "```\n",
        "graph_builder.add_edge(START, \"chatbot\")\n",
        "graph_builder.add_edge(\"chatbot\", END)\n",
        "```\n",
        "- Defines the flow from `START` through `chatbot` to `END`.\n",
        "\n",
        "\n",
        "```\n",
        "graph = graph_builder.compile()\n",
        "```\n",
        "- Finalizes and compiles the graph for execution."
      ],
      "metadata": {
        "id": "2Qw8s9WSEDRD"
      }
    },
    {
      "cell_type": "markdown",
      "source": [
        "###**Displaying the Graph with IPython and Mermaid**"
      ],
      "metadata": {
        "id": "Hh4MrtqWJncG"
      }
    },
    {
      "cell_type": "code",
      "source": [
        "from IPython.display import Image, display\n",
        "\n",
        "try:\n",
        "    display(Image(graph.get_graph().draw_mermaid_png()))\n",
        "except Exception:\n",
        "    # This requires some extra dependencies and is optional\n",
        "    pass"
      ],
      "metadata": {
        "colab": {
          "base_uri": "https://localhost:8080/",
          "height": 251
        },
        "id": "-QlMcB8TW73v",
        "outputId": "c810a76a-033c-45a4-e84e-bd7cad660ffc"
      },
      "execution_count": null,
      "outputs": [
        {
          "output_type": "display_data",
          "data": {
            "image/png": "[encoded data removed]",
            "text/plain": [
              "<IPython.core.display.Image object>"
            ]
          },
          "metadata": {}
        }
      ]
    },
    {
      "cell_type": "markdown",
      "source": [
        "\n",
        "**Explanation :**\n",
        "```\n",
        "from IPython.display import Image, display\n",
        "\n",
        "try:\n",
        "    display(Image(graph.get_graph().draw_mermaid_png()))\n",
        "except Exception:\n",
        "    pass\n",
        "\n",
        "```\n",
        "\n",
        "- `Image` and `display`:\n",
        "  - Imports Image and `display` from IPython to `display` images in the notebook.\n",
        "- `graph.get_graph().draw_mermaid_png():`\n",
        "  - Retrieves the graph object and uses Mermaid syntax to draw a PNG image of the graph.\n",
        "  - Requires additional dependencies for full functionality (Mermaid support), which might need to be installed separately.\n",
        "- `try-except` block:\n",
        "  - Attempts to display the graph, but if any error occurs (such as missing dependencies), it catches the exception and gracefully handles it without crashing the notebook.\n",
        "\n",
        "\n",
        "**Summary:**\n",
        "\n",
        "- This code snippet integrates a visual representation of the graph into the IPython notebook, making it easier to understand the flow of states and the connections between nodes."
      ],
      "metadata": {
        "id": "LEBrmrZfIYCN"
      }
    },
    {
      "cell_type": "markdown",
      "source": [
        "###**Streaming Events and Displaying User Messages**"
      ],
      "metadata": {
        "id": "vjfYEeceKh8d"
      }
    },
    {
      "cell_type": "code",
      "source": [
        "# Loop through each event in the stream of events from the graph\n",
        "for event in graph.stream({\"messages\": [(\"user\", \"Hi from User\")]}):\n",
        "    # Print the latest message content from the user\n",
        "    print(\"EVENT:\", list(event.values())[0][\"messages\"][-1].content)"
      ],
      "metadata": {
        "colab": {
          "base_uri": "https://localhost:8080/"
        },
        "id": "TWKXxiSXW_Hs",
        "outputId": "47cd186e-0a0b-4246-9b27-d443b65f9ca2"
      },
      "execution_count": null,
      "outputs": [
        {
          "output_type": "stream",
          "name": "stdout",
          "text": [
            "EVENT: Hi there, User!  How can I help you today?\n",
            "\n"
          ]
        }
      ]
    },
    {
      "cell_type": "markdown",
      "source": [
        "**Explanation:**\n",
        "\n",
        "- `graph.stream({\"messages\": [(\"user\", \"Hi from User\")]}):`\n",
        "\n",
        "  - Initiates a stream of events for the graph with an initial user message (\"Hi from User\").\n",
        "The graph processes each event sequentially.\n",
        "\n",
        "- `for event in graph.stream(...):`\n",
        "\n",
        "    - Iterates over each event in the stream.\n",
        "`list(event.values())[0][\"messages\"][-1].content`: Retrieves the latest message content from the user in the current event."
      ],
      "metadata": {
        "id": "IwsDiUEsKmAj"
      }
    },
    {
      "cell_type": "markdown",
      "source": [
        "###**Handling User Input and Streaming Graph Updates**"
      ],
      "metadata": {
        "id": "rI5Lo3esLTDz"
      }
    },
    {
      "cell_type": "code",
      "source": [
        "def stream_graph_updates(user_input: str):\n",
        "    # Loop through each event in the stream of events from the graph based on user input\n",
        "    for event in graph.stream({\"messages\": [(\"user\", user_input)]}):\n",
        "        # Loop through each value in the event\n",
        "        for value in event.values():\n",
        "            # Print the latest message content from the Assistant\n",
        "            print(\"Assistant:\", value[\"messages\"][-1].content)\n",
        "\n",
        "# Continuously prompt the user for input\n",
        "while True:\n",
        "    try:\n",
        "        # Get input from the user\n",
        "        user_input = input(\"User prompt: \")\n",
        "        # Check if the user wants to quit\n",
        "        if user_input.lower() in [\"quit\", \"exit\", \"q\"]:\n",
        "            # Print a goodbye message and break the loop\n",
        "            print(\"Bye, Have a good Day!\")\n",
        "            break\n",
        "\n",
        "        # Call the stream_graph_updates function with the user input\n",
        "        stream_graph_updates(user_input)\n",
        "    except:\n",
        "        # Fallback if input() is not available\n",
        "        user_input = \"Tell me the difference between langchain and LangGraph\"\n",
        "        # Print the fallback user input\n",
        "        print(\"User prompt: \" + user_input)\n",
        "        # Call the stream_graph_updates function with the fallback user input\n",
        "        stream_graph_updates(user_input)\n",
        "        break"
      ],
      "metadata": {
        "id": "gSk-jqKkXKoV",
        "colab": {
          "base_uri": "https://localhost:8080/"
        },
        "collapsed": true,
        "outputId": "d15382d3-309e-47cf-c0c5-3ff5bd6c9a3a"
      },
      "execution_count": null,
      "outputs": [
        {
          "output_type": "stream",
          "name": "stdout",
          "text": [
            "User prompt: Hey wassup\n",
            "Assistant: Not much, just hanging out and ready to answer your questions!  What's up with you?\n",
            "\n",
            "User prompt: Q\n",
            "Bye, Have a good Day!\n"
          ]
        }
      ]
    },
    {
      "cell_type": "markdown",
      "source": [
        "**Explanation:**\n",
        "\n",
        "- `stream_graph_updates(user_input: str):`\n",
        "\n",
        "    - This function takes a user_input and streams the graph updates based on it.\n",
        "    - The `graph.stream(...)` function initiates a stream of events with the given user input.\n",
        "    - It iterates over each event and prints the latest message content from the Assistant.\n",
        "\n",
        "- `while True::`\n",
        "\n",
        "    - A loop that continues until the user decides to quit.\n",
        "\n",
        "- **User Input Handling:**\n",
        "\n",
        "    - Prompts the user for input.\n",
        "    - Checks if the user wishes to exit (with options like \"quit\", \"exit\", or \"q\").\n",
        "    - If the input is not a termination command, it calls `stream_graph_updates()` with the user's input.\n",
        "    - If there's an issue with input (like in environments where `input()` is not available), it falls back to a predefined user input.\n"
      ],
      "metadata": {
        "id": "SFYg2cDZLbPd"
      }
    },
    {
      "cell_type": "markdown",
      "source": [
        "##**LLM with Tools binding**"
      ],
      "metadata": {
        "id": "b5O45s5oYe72"
      }
    },
    {
      "cell_type": "code",
      "source": [
        "%%capture --no-stderr\n",
        "%pip install -U tavily-python langchain_community"
      ],
      "metadata": {
        "id": "-zoSTfrtX3ze"
      },
      "execution_count": null,
      "outputs": []
    },
    {
      "cell_type": "markdown",
      "source": [
        "####**Set Tavily API Key in os**"
      ],
      "metadata": {
        "id": "vVVxw6-oMH0F"
      }
    },
    {
      "cell_type": "code",
      "source": [
        "import os\n",
        "\n",
        "os.environ[\"TAVILY_API_KEY\"] = userdata.get(\"TAVILY_API_KEY\")"
      ],
      "metadata": {
        "id": "zEHwCx6cYBkY"
      },
      "execution_count": null,
      "outputs": []
    },
    {
      "cell_type": "markdown",
      "source": [
        "###**Building and Compiling a State Graph with Tools Integration**"
      ],
      "metadata": {
        "id": "q9DAFjHZMuzU"
      }
    },
    {
      "cell_type": "code",
      "source": [
        "from typing import Annotated\n",
        "\n",
        "from langchain_community.tools.tavily_search import TavilySearchResults\n",
        "from langchain_core.messages import BaseMessage\n",
        "from typing_extensions import TypedDict\n",
        "\n",
        "from langgraph.graph import StateGraph, START, END\n",
        "from langgraph.graph.message import add_messages\n",
        "from langgraph.prebuilt import ToolNode, tools_condition\n",
        "\n",
        "#add_messages : append new messages to the existing list of messages in the state in the graph.\n",
        "# Define the State class with a list of messages (part 1)\n",
        "class State(TypedDict):\n",
        "    messages: Annotated[list, add_messages]\n",
        "\n",
        "# Create a StateGraph instance with the State type (part 1)\n",
        "graph_builder = StateGraph(State)\n",
        "\n",
        "# Initializes a search tool that retrieves and returns up to 2 search results.\n",
        "tool = TavilySearchResults(max_results=2)\n",
        "tools = [tool]\n",
        "\n",
        "# Modification: tell the LLM which tools it can call\n",
        "llm_with_tools = llm.bind_tools(tools)\n",
        "\n",
        "# Define the chatbot function that uses the state and returns a response from the LLM\n",
        "def chatbot(state: State):\n",
        "    return {\"messages\": [llm_with_tools.invoke(state[\"messages\"])]}\n",
        "\n",
        "# Any time a tool is called, we return to the chatbot to decide the next step\n",
        "graph_builder.add_node(\"chatbot\", chatbot)\n",
        "\n",
        "# Add the tools node to the graph\n",
        "tool_node = ToolNode(tools=[tool])\n",
        "graph_builder.add_node(\"tools\", tool_node)\n",
        "\n",
        "# Define conditional edges for the chatbot node based on tool usage\n",
        "graph_builder.add_conditional_edges(\n",
        "    \"chatbot\",\n",
        "    tools_condition\n",
        ")\n",
        "\n",
        "# Any time a tool is called, we return to the chatbot to decide the next step\n",
        "graph_builder.add_edge(\"tools\", \"chatbot\")\n",
        "\n",
        "# Define the starting point of the graph as the chatbot node\n",
        "graph_builder.add_edge(START, \"chatbot\")\n",
        "\n",
        "# Compile the graph\n",
        "graph = graph_builder.compile()"
      ],
      "metadata": {
        "id": "BEgrvH54YQlu"
      },
      "execution_count": null,
      "outputs": []
    },
    {
      "cell_type": "markdown",
      "source": [
        "**Summary:**\n",
        "\n",
        "This code integrates tools into the agentic chatbot state graph using LangGraph. Key components include:\n",
        "\n",
        "- Defining a `State` with messages.\n",
        "- Integrating a search tool `(TavilySearchResults)` and binding it to the LLM.\n",
        "- Adding a `chatbot` node to handle messages.\n",
        "- Including a tools node for tool operations.\n",
        "- Setting up conditional edges based on tool usage.\n",
        "- Compiling the graph for execution."
      ],
      "metadata": {
        "id": "1KQxZrbnM2o9"
      }
    },
    {
      "cell_type": "markdown",
      "source": [
        "###**Displaying the Graph Structure with Mermaid Syntax**"
      ],
      "metadata": {
        "id": "JqvmIREyNaqZ"
      }
    },
    {
      "cell_type": "code",
      "source": [
        "from IPython.display import Image, display\n",
        "\n",
        "try:\n",
        "    display(Image(graph.get_graph().draw_mermaid_png()))\n",
        "except Exception:\n",
        "    # This requires some extra dependencies and is optional\n",
        "    pass"
      ],
      "metadata": {
        "colab": {
          "base_uri": "https://localhost:8080/",
          "height": 266
        },
        "id": "2_PlSMAUYU0g",
        "outputId": "328476da-42d9-4ea1-8f36-ad628f245cb7"
      },
      "execution_count": null,
      "outputs": [
        {
          "output_type": "display_data",
          "data": {
            "image/png": "[encoded data removed]",
            "text/plain": [
              "<IPython.core.display.Image object>"
            ]
          },
          "metadata": {}
        }
      ]
    },
    {
      "cell_type": "markdown",
      "source": [
        "**Summary:**\n",
        "\n",
        "This code provides a visual representation of the chatbot's state graph using Mermaid syntax. It is an effective way to quickly understand the graph structure, including nodes, edges, and connections between the chatbot and tools.\n",
        "\n",
        "\n",
        "\n",
        "\n",
        "\n",
        "\n"
      ],
      "metadata": {
        "id": "Oc0vZD5NNiVj"
      }
    },
    {
      "cell_type": "markdown",
      "source": [
        "###**Interactive Chatbot with Tavily Search Integration and Chat History Logging**\n",
        "\n",
        "\n",
        "\n"
      ],
      "metadata": {
        "id": "s_5B3VETODkZ"
      }
    },
    {
      "cell_type": "code",
      "source": [
        "from google.colab import userdata\n",
        "from langchain_community.tools.tavily_search import TavilySearchResults\n",
        "\n",
        "# Retrieve Tavily API key from Google Colab environment\n",
        "TAVILY_API_KEY = userdata.get('TAVILY_API_KEY')\n",
        "\n",
        "# Initialize Tavily search tool\n",
        "tavily_search = TavilySearchResults(max_results=3)\n",
        "\n",
        "# Maintain chat history\n",
        "chat_history = []\n",
        "\n",
        "def stream_graph_updates(user_input):\n",
        "    \"\"\"\n",
        "    A placeholder function for processing graph updates.\n",
        "    Replace with your actual implementation.\n",
        "    \"\"\"\n",
        "    print(f\"Processing graph updates for: {user_input}\")\n",
        "\n",
        "# Main chatbot loop\n",
        "while True:\n",
        "    try:\n",
        "        # Prompt the user for input\n",
        "        user_input = input(\"User prompt: \").strip()\n",
        "\n",
        "        # Exit condition\n",
        "        if user_input.lower() in [\"quit\", \"exit\", \"q\"]:\n",
        "            print(\"Bye! Have a great day!\")\n",
        "            break\n",
        "\n",
        "        # Handle empty input\n",
        "        if not user_input:\n",
        "            print(\"No prompt found. Please type something.\")\n",
        "            continue\n",
        "\n",
        "        # Add user input to chat history\n",
        "        chat_history.append({\"role\": \"user\", \"content\": user_input})\n",
        "\n",
        "        # Call the placeholder function (replace as needed)\n",
        "        try:\n",
        "            stream_graph_updates(user_input)\n",
        "        except NameError:\n",
        "            # Handle missing function gracefully\n",
        "            print(\"stream_graph_updates is not implemented. Skipping.\")\n",
        "\n",
        "        # Perform a Tavily search if the function is not implemented\n",
        "        search_docs = tavily_search.invoke(user_input)\n",
        "\n",
        "        # Add Tavily response to chat history\n",
        "        chat_history.append({\"role\": \"assistant\", \"content\": str(search_docs)})\n",
        "\n",
        "        # Display results from Tavily search\n",
        "        print(\"Search Results:\")\n",
        "        for i, doc in enumerate(search_docs, start=1):\n",
        "            print(f\"\\nResult {i}:\")\n",
        "            print(f\"Here is the {i} documentaion from web search you can get your answer from here:\")\n",
        "            print(f\"Content: {doc.get('content', 'N/A')}\")\n",
        "            print(f\"URL: {doc.get('url', 'N/A')}\")\n",
        "\n",
        "    except Exception as e:\n",
        "        print(f\"An error occurred: {e}\")\n",
        "        break\n",
        "\n",
        "# Print chat history at the end of the session\n",
        "print(\"\\nChat History:\")\n",
        "for message in chat_history:\n",
        "    role = message[\"role\"]\n",
        "    content = message[\"content\"]\n",
        "    print(f\"{role.capitalize()}: {content}\")\n"
      ],
      "metadata": {
        "colab": {
          "base_uri": "https://localhost:8080/"
        },
        "id": "JVqz-_2ja6MF",
        "outputId": "018f7207-856c-4648-db33-1b7e1efa02dd"
      },
      "execution_count": 44,
      "outputs": [
        {
          "output_type": "stream",
          "name": "stdout",
          "text": [
            "User prompt: what is the networth of  elon musk\n",
            "Processing graph updates for: what is the networth of  elon musk\n",
            "Search Results:\n",
            "\n",
            "Result 1:\n",
            "Here is the 1 documentaion from web search you can get your answer from here:\n",
            "Content: Elon Musk in 2023. Elon Musk is the wealthiest person in the world, with an estimated net worth of US$369 billion as of December 2024, according to the Bloomberg Billionaires Index, and $400 billion according to Forbes, primarily from his ownership stakes in Tesla, Inc. and SpaceX. [1] [2] [3] In November 2021, he became the first person in the world to have a net worth above $300 billion, and\n",
            "URL: https://en.wikipedia.org/wiki/Wealth_of_Elon_Musk\n",
            "\n",
            "Result 2:\n",
            "Here is the 2 documentaion from web search you can get your answer from here:\n",
            "Content: Elon Musk Net Worth Tops $400 Billion, a Historic First - Bloomberg Bloomberg Tech At Bloomberg Bloomberg London Bloomberg Beta Bloomberg Terminal Industry Products Bloomberg Law Bloomberg Tax Bloomberg Government Bloomberg Markets Bloomberg Technology Bloomberg Pursuits Bloomberg Politics Bloomberg Opinion Bloomberg Businessweek Bloomberg Radio Bloomberg Television Tech At Bloomberg Bloomberg London Bloomberg Beta Bloomberg Terminal Industry Products Bloomberg Law Bloomberg Tax Bloomberg Government Bloomberg Environment Bloomberg Markets Bloomberg Technology Bloomberg Pursuits Bloomberg Politics Bloomberg Opinion Bloomberg Businessweek Bloomberg Radio Bloomberg Television Bloomberg Bloomberg Billionaires Index The most recent catalyst was an insider share sale of his privately held SpaceX, which boosted Musk’s net worth by roughly $50 billion in one fell swoop to $439.2 billion, according to the Bloomberg Billionaires Index.\n",
            "URL: https://www.bloomberg.com/news/articles/2024-12-11/elon-musk-net-worth-tops-400-billion-a-historic-first\n",
            "\n",
            "Result 3:\n",
            "Here is the 3 documentaion from web search you can get your answer from here:\n",
            "Content: Tesla CEO Elon Musk's net worth crossed $400 billion on Thursday, the Forbes real-time billionaires list showed, boosted by a nearly 71% surge in the automaker's shares this year and the soaring\n",
            "URL: https://www.reuters.com/technology/elon-musks-net-worth-tops-400-bln-forbes-billionaires-list-shows-2024-12-12/\n",
            "User prompt: q\n",
            "Bye! Have a great day!\n",
            "\n",
            "Chat History:\n",
            "User: what is the networth of  elon musk\n",
            "Assistant: [{'url': 'https://en.wikipedia.org/wiki/Wealth_of_Elon_Musk', 'content': 'Elon Musk in 2023. Elon Musk is the wealthiest person in the world, with an estimated net worth of US$369 billion as of December 2024, according to the Bloomberg Billionaires Index, and $400 billion according to Forbes, primarily from his ownership stakes in Tesla, Inc. and SpaceX. [1] [2] [3] In November 2021, he became the first person in the world to have a net worth above $300 billion, and'}, {'url': 'https://www.bloomberg.com/news/articles/2024-12-11/elon-musk-net-worth-tops-400-billion-a-historic-first', 'content': 'Elon Musk Net Worth Tops $400 Billion, a Historic First - Bloomberg Bloomberg Tech At Bloomberg Bloomberg London Bloomberg Beta Bloomberg Terminal Industry Products Bloomberg Law Bloomberg Tax Bloomberg Government Bloomberg Markets Bloomberg Technology Bloomberg Pursuits Bloomberg Politics Bloomberg Opinion Bloomberg Businessweek Bloomberg Radio Bloomberg Television Tech At Bloomberg Bloomberg London Bloomberg Beta Bloomberg Terminal Industry Products Bloomberg Law Bloomberg Tax Bloomberg Government Bloomberg Environment Bloomberg Markets Bloomberg Technology Bloomberg Pursuits Bloomberg Politics Bloomberg Opinion Bloomberg Businessweek Bloomberg Radio Bloomberg Television Bloomberg Bloomberg Billionaires Index The most recent catalyst was an insider share sale of his privately held SpaceX, which boosted Musk’s net worth by roughly $50 billion in one fell swoop to $439.2 billion, according to the Bloomberg Billionaires Index.'}, {'url': 'https://www.reuters.com/technology/elon-musks-net-worth-tops-400-bln-forbes-billionaires-list-shows-2024-12-12/', 'content': \"Tesla CEO Elon Musk's net worth crossed $400 billion on Thursday, the Forbes real-time billionaires list showed, boosted by a nearly 71% surge in the automaker's shares this year and the soaring\"}]\n"
          ]
        }
      ]
    },
    {
      "cell_type": "markdown",
      "source": [
        "**Summary:**\n",
        "\n",
        "This code implements an interactive chatbot that leverages Tavily Search for retrieving structured search results. The chatbot features:\n",
        "\n",
        "- User Interaction: Continuously prompts the user for input and allows exiting with keywords like \"quit,\" \"exit,\" or \"q.\"\n",
        "- Tavily Search Integration: Performs searches using the Tavily Search API and displays structured results (content, URL).\n",
        "- Chat History Logging: Maintains a log of user inputs and the assistant's responses, which is displayed at the end of the session.\n",
        "- Error Handling: Gracefully manages empty inputs, unimplemented functions, and runtime exceptions.\n",
        "- Also have real time information to get current data using browsing search"
      ],
      "metadata": {
        "id": "dNYcCKeeOl5q"
      }
    },
    {
      "cell_type": "markdown",
      "source": [
        "###**Adding Memory to the Chatbot in the State Graph**"
      ],
      "metadata": {
        "id": "Nr2M0QYHOtnv"
      }
    },
    {
      "cell_type": "code",
      "source": [
        "from typing import Annotated\n",
        "\n",
        "from langchain_community.tools.tavily_search import TavilySearchResults\n",
        "from typing_extensions import TypedDict\n",
        "\n",
        "from langgraph.checkpoint.memory import MemorySaver\n",
        "from langgraph.graph import StateGraph, START # , END\n",
        "from langgraph.graph.message import add_messages\n",
        "from langgraph.prebuilt import ToolNode, tools_condition\n",
        "\n",
        "# (Part 3: Adding Memory to the Chatbot)\n",
        "# Add memory saver for checkpointing\n",
        "memory = MemorySaver()\n",
        "\n",
        "#add_messages : append new messages to the existing list of messages in the state in the graph.\n",
        "# Define the State class with a list of messages (part 1)\n",
        "class State(TypedDict):\n",
        "    messages: Annotated[list, add_messages]\n",
        "\n",
        "# Create a StateGraph instance with the State type (part 1)\n",
        "graph_builder = StateGraph(State)\n",
        "\n",
        "# Initializes a search tool that retrieves and returns up to 2 search results.\n",
        "tool = TavilySearchResults(max_results=2)\n",
        "tools = [tool]\n",
        "\n",
        "# Integrate LLM with bind_tools for web search\n",
        "llm_with_tools = llm.bind_tools(tools)\n",
        "\n",
        "# Define the chatbot function that uses the state and returns a response from the LLM\n",
        "def chatbot(state: State):\n",
        "    return {\"messages\": [llm_with_tools.invoke(state[\"messages\"])]}\n",
        "\n",
        "# Add the chatbot node to the graph\n",
        "graph_builder.add_node(\"chatbot\", chatbot)\n",
        "\n",
        "# Add the tools node to the graph\n",
        "tool_node = ToolNode(tools=[tool])\n",
        "graph_builder.add_node(\"tools\", tool_node)\n",
        "\n",
        "# Define conditional edges for the chatbot node based on tool usage\n",
        "graph_builder.add_conditional_edges(\n",
        "    \"chatbot\",\n",
        "    tools_condition,\n",
        ")\n",
        "\n",
        "# Any time a tool is called, we return to the chatbot to decide the next step\n",
        "graph_builder.add_edge(\"tools\", \"chatbot\")\n",
        "\n",
        "# Define the starting point of the graph as the chatbot node\n",
        "graph_builder.add_edge(START, \"chatbot\")\n",
        "\n",
        "# Compile the graph with memory checkpointing\n",
        "graph = graph_builder.compile(checkpointer=MemorySaver())"
      ],
      "metadata": {
        "id": "xT0P9QPtZyOa"
      },
      "execution_count": null,
      "outputs": []
    },
    {
      "cell_type": "markdown",
      "source": [
        "**Summary:**\n",
        "\n",
        "This updated code integrates memory checkpointing into the chatbot’s state graph, enabling the preservation of context across interactions. It also sets up a chatbot with tools for web search and manages conditional tool usage. The graph is compiled with memory to ensure continuity in conversations."
      ],
      "metadata": {
        "id": "rSLGiE2eO1Y2"
      }
    },
    {
      "cell_type": "markdown",
      "source": [
        "###**Displaying the Graph Structure with Mermaid Syntax**"
      ],
      "metadata": {
        "id": "6OHebhjmO7vw"
      }
    },
    {
      "cell_type": "code",
      "source": [
        "from IPython.display import Image, display\n",
        "\n",
        "try:\n",
        "    display(Image(graph.get_graph().draw_mermaid_png()))\n",
        "except Exception:\n",
        "    # This requires some extra dependencies and is optional\n",
        "    pass"
      ],
      "metadata": {
        "colab": {
          "base_uri": "https://localhost:8080/",
          "height": 266
        },
        "id": "weIBxjejZ0_O",
        "outputId": "5212587e-c38b-477e-b1e8-6b61116ce53a"
      },
      "execution_count": null,
      "outputs": [
        {
          "output_type": "display_data",
          "data": {
            "image/png": "[encoded data removed]",
            "text/plain": [
              "<IPython.core.display.Image object>"
            ]
          },
          "metadata": {}
        }
      ]
    },
    {
      "cell_type": "markdown",
      "source": [
        "**Summary:**\n",
        "\n",
        "This code provides a visual representation of the chatbot's state graph using Mermaid syntax. It is an effective way to quickly understand the graph structure, including nodes, edges, and connections between the chatbot and tools."
      ],
      "metadata": {
        "id": "kyk5AunLO-_S"
      }
    },
    {
      "cell_type": "code",
      "source": [
        "config = {\"configurable\": {\"thread_id\": \"1\"}}"
      ],
      "metadata": {
        "id": "qrkJlK1Va5Tg"
      },
      "execution_count": null,
      "outputs": []
    },
    {
      "cell_type": "markdown",
      "source": [
        "Summary:\n",
        "\n",
        "\n",
        "The configuration dictionary `config` is setting up a configuration object for a specific thread or conversation with an identifier of `\"1\"` under the `configurable` key."
      ],
      "metadata": {
        "id": "ZBLhiaiQPLDx"
      }
    },
    {
      "cell_type": "markdown",
      "source": [
        "###**Streaming Chatbot Events with Configuration**"
      ],
      "metadata": {
        "id": "feO3Ze2rPanr"
      }
    },
    {
      "cell_type": "code",
      "source": [
        "user_input = input(\"UserInput: \")\n",
        "\n",
        "# The config is the **second positional argument** to stream() or invoke()!\n",
        "events = graph.stream(\n",
        "    {\"messages\": [(\"user\", user_input)]}, config, stream_mode=\"values\"\n",
        ")\n",
        "\n",
        "# Loop through each event in the stream\n",
        "for event in events:\n",
        "    # Print the latest message content from the event\n",
        "    event[\"messages\"][-1].pretty_print()"
      ],
      "metadata": {
        "colab": {
          "base_uri": "https://localhost:8080/"
        },
        "id": "Qv5P5iT1bBkm",
        "outputId": "6e2f48a4-66ae-44d2-a505-779d1aa321e5"
      },
      "execution_count": null,
      "outputs": [
        {
          "output_type": "stream",
          "name": "stdout",
          "text": [
            "UserInput: heyo my name is Raza\n",
            "================================\u001b[1m Human Message \u001b[0m=================================\n",
            "\n",
            "heyo my name is Raza\n",
            "==================================\u001b[1m Ai Message \u001b[0m==================================\n",
            "\n",
            "Heyo Raza!  It's good to see you again.\n"
          ]
        }
      ]
    },
    {
      "cell_type": "markdown",
      "source": [
        "**Summary:**\n",
        "\n",
        "This code sets up a streaming mechanism to receive real-time responses from the chatbot based on user input. Each event from the stream is processed individually to display the latest message content, allowing for continuous interaction between the user and the chatbot. The configuration allows for fine-tuning the stream’s behavior based on specific needs."
      ],
      "metadata": {
        "id": "3NglwWtmPfQZ"
      }
    },
    {
      "cell_type": "markdown",
      "source": [
        "###**Streaming Events from Chatbot**"
      ],
      "metadata": {
        "id": "ieDFlfb7PyoN"
      }
    },
    {
      "cell_type": "code",
      "source": [
        "user_input = input(\"UserInput: \")\n",
        "\n",
        "# The config is the **second positional argument** to stream() or invoke()!\n",
        "events = graph.stream(\n",
        "    {\"messages\": [(\"user\", user_input)]}, config, stream_mode=\"values\"\n",
        ")\n",
        "\n",
        "# Loop through each event in the stream\n",
        "for event in events:\n",
        "    # Print the latest message content from the event\n",
        "    event[\"messages\"][-1].pretty_print()\n"
      ],
      "metadata": {
        "colab": {
          "base_uri": "https://localhost:8080/"
        },
        "id": "UfoWrNW6bJGo",
        "outputId": "f69e5e9a-5c8f-4e64-a330-2b23395aaf6d"
      },
      "execution_count": null,
      "outputs": [
        {
          "output_type": "stream",
          "name": "stdout",
          "text": [
            "UserInput: have you remembder me ?\n",
            "================================\u001b[1m Human Message \u001b[0m=================================\n",
            "\n",
            "have you remembder me ?\n",
            "==================================\u001b[1m Ai Message \u001b[0m==================================\n",
            "\n",
            "Yes, I remember you. You are Raza.\n"
          ]
        }
      ]
    },
    {
      "cell_type": "markdown",
      "source": [
        "**Summary:**\n",
        "\n",
        "This code snippet captures user input, streams events from the chatbot’s state graph, and iterates over the events to print the latest messages in real-time. The configuration `(config)` allows customization of how the stream operates, making the interaction dynamic and responsive."
      ],
      "metadata": {
        "id": "e9DarrSmP1m5"
      }
    }
  ]
}